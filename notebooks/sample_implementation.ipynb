{
 "cells": [
  {
   "cell_type": "markdown",
   "metadata": {},
   "source": [
    "# Sample Implementation"
   ]
  },
  {
   "cell_type": "code",
   "execution_count": null,
   "metadata": {
    "scrolled": true
   },
   "outputs": [],
   "source": [
    "!pip install -r ../requirements.txt"
   ]
  },
  {
   "cell_type": "code",
   "execution_count": null,
   "metadata": {},
   "outputs": [],
   "source": [
    "# First, import TF and get its version.\n",
    "import tensorflow as tf\n",
    "tf_version = tf.__version__\n",
    "\n",
    "# Check if version >=2.0.0 is used\n",
    "if not tf_version.startswith('2.'):\n",
    "    print('WARNING: TensorFlow >= 2.0.0 will be used in this course.\\nYour version is {}'.format(tf_version) + '.\\033[0m')\n",
    "else:\n",
    "    print('OK: TensorFlow >= 2.0.0' + '.\\033[0m')"
   ]
  },
  {
   "cell_type": "code",
   "execution_count": null,
   "metadata": {},
   "outputs": [],
   "source": [
    "import numpy as np\n",
    "from matplotlib import pyplot as plt\n",
    "\n",
    "from tensorflow.keras.datasets import cifar10\n",
    "from tensorflow.keras.models import Sequential\n",
    "from tensorflow.keras.layers import Dense, Flatten, Conv2D, MaxPooling2D, BatchNormalization, Activation, Dropout\n",
    "from tensorflow.keras import utils\n",
    "\n",
    "import wandb\n",
    "from wandb.keras import WandbCallback\n",
    "\n",
    "wandb.login()\n",
    "project_id = 'wandb-callbacks-demo'\n",
    "\n",
    "%matplotlib inline\n",
    "\n",
    "# fix random seed for reproducibility\n",
    "np.random.seed(42)\n",
    "\n",
    "# GPU\n",
    "gpus = tf.config.list_physical_devices('GPU')\n",
    "if gpus:\n",
    "    try:\n",
    "        # Currently, memory growth needs to be the same across GPUs\n",
    "        for gpu in gpus:\n",
    "            tf.config.experimental.set_memory_growth(gpu, True)\n",
    "        logical_gpus = tf.config.experimental.list_logical_devices('GPU')\n",
    "        print(len(gpus), \"Physical GPUs,\", len(logical_gpus), \"Logical GPUs\")\n",
    "    except RuntimeError as e:\n",
    "        # Memory growth must be set before GPUs have been initialized\n",
    "        print(e)"
   ]
  },
  {
   "cell_type": "markdown",
   "metadata": {},
   "source": [
    "## Define the dataset"
   ]
  },
  {
   "cell_type": "code",
   "execution_count": null,
   "metadata": {},
   "outputs": [],
   "source": [
    "def show_imgs(X):\n",
    "    plt.figure(1)\n",
    "    k = 0\n",
    "    for i in range(0,5):\n",
    "        for j in range(0,5):\n",
    "            plt.subplot2grid((5,5),(i,j))\n",
    "            plt.imshow(X[k], cmap='gray')\n",
    "            k = k+1\n",
    "            plt.axis('off')\n",
    "    # show the plot\n",
    "    plt.show()\n",
    "    \n",
    "# Load data & split data between train and test sets\n",
    "(X_train, y_train), (X_test, y_test) = cifar10.load_data()\n",
    "CLASS_NAMES = [\"airplane\", \"automobile\", \"bird\", \"cat\", \"deer\", \"dog\", \"frog\", \"horse\", \"ship\", \"truck\"]\n",
    "\n",
    "show_imgs(X_train)"
   ]
  },
  {
   "cell_type": "code",
   "execution_count": null,
   "metadata": {},
   "outputs": [],
   "source": [
    "# Normalize input\n",
    "X_train = X_train.astype('float32')\n",
    "X_test = X_test.astype('float32')\n",
    "X_train /= 255.0\n",
    "X_test /= 255.0\n",
    "\n",
    "print(X_train.shape[0], 'train samples')\n",
    "print(X_test.shape[0], 'test samples')\n",
    "\n",
    "n_classes = 10\n",
    "# Conversion to class vectors\n",
    "Y_train = utils.to_categorical(y_train, n_classes)\n",
    "Y_test = utils.to_categorical(y_test, n_classes)"
   ]
  },
  {
   "cell_type": "markdown",
   "metadata": {},
   "source": [
    "## Sample implementation"
   ]
  },
  {
   "cell_type": "code",
   "execution_count": null,
   "metadata": {},
   "outputs": [],
   "source": [
    "import sys\n",
    "sys.path.append(\"./..\")\n",
    "\n",
    "from wandb_callbacks.tensorflow import ActivationCallback, DeadReluCallback, GRADCamCallback\n",
    "from wandb_callbacks.utils import get_samples_for_activation"
   ]
  },
  {
   "cell_type": "code",
   "execution_count": null,
   "metadata": {},
   "outputs": [],
   "source": [
    "D = X_train.shape[1:]\n",
    "\n",
    "# initialize wandb with your project name and optionally with configutations.\n",
    "run = wandb.init(project=project_id,\n",
    "                 config={\n",
    "                     \"learning_rate\": 0.005,\n",
    "                     \"epochs\": 30,\n",
    "                     \"batch_size\": 64,\n",
    "                     \"activation\": 'relu',\n",
    "                     \"loss_function\": \"categorical_crossentropy\",\n",
    "                     \"architecture\": \"CNN\",\n",
    "                     \"dataset\": \"CIFAR-10\"})\n",
    "config = wandb.config\n",
    "\n",
    "def create_model(config):\n",
    "    model = Sequential()\n",
    "    model.add(Conv2D(32, kernel_size=(3,3), input_shape=D, activation='relu', kernel_initializer='he_normal'))\n",
    "    model.add(Conv2D(64, kernel_size=(3,3), activation='relu', kernel_initializer='he_normal'))\n",
    "    model.add(MaxPooling2D(2))\n",
    "    model.add(Conv2D(128, kernel_size=(3,3), activation='relu', kernel_initializer='he_normal'))\n",
    "    model.add(MaxPooling2D(2))\n",
    "    model.add(Conv2D(256, kernel_size=(3,3), activation='relu', kernel_initializer='he_normal'))\n",
    "    model.add(MaxPooling2D(2))\n",
    "    model.add(Dropout(0.2))\n",
    "    model.add(Flatten())\n",
    "    model.add(Dense(n_classes, activation='softmax'))\n",
    "    \n",
    "    model.compile(loss=config.loss_function, \n",
    "                  optimizer=tf.keras.optimizers.Adam(learning_rate=config.learning_rate), \n",
    "                  metrics=['accuracy'])\n",
    "    \n",
    "    return model\n",
    "\n",
    "tf.keras.backend.clear_session()\n",
    "model = create_model(config)\n",
    "model.summary()"
   ]
  },
  {
   "cell_type": "code",
   "execution_count": null,
   "metadata": {
    "scrolled": true
   },
   "outputs": [],
   "source": [
    "# samples to predict and use for visualisation\n",
    "sample_images, sample_labels, sample_labels_enc = get_samples_for_activation(CLASS_NAMES, X_test, Y_test)\n",
    "\n",
    "# default wandb callback to log training process and sample images\n",
    "wandb_callback = WandbCallback(data_type='image', \n",
    "                               training_data=(sample_images, sample_labels_enc), \n",
    "                               labels=CLASS_NAMES, \n",
    "                               log_weights=True,\n",
    "                               log_gradients=True)\n",
    "\n",
    "# activation callback to visualize the activtion of one layer\n",
    "act_callback = ActivationCallback(validation_data=(sample_images, sample_labels),\n",
    "                                  layer_name='conv2d', \n",
    "                                  log_frequency=10)  # log only every 10 epochs\n",
    "\n",
    "# keeps track of the number of dead relus within the network\n",
    "relu_callback = DeadReluCallback(sample_images, \n",
    "                                 log_frequency=1, \n",
    "                                 verbose=False)\n",
    "\n",
    "# creates a GRADCam for the given sample images and the given layer\n",
    "cam_callback = GRADCamCallback(sample_images, \n",
    "                               layer_name='conv2d_3', \n",
    "                               log_frequency=1)\n",
    "\n",
    "# train the model with the callbacks\n",
    "log = model.fit(X_train, Y_train, \n",
    "                epochs=config.epochs, \n",
    "                batch_size=config.batch_size,\n",
    "                validation_data=(X_test, Y_test),\n",
    "                callbacks=[wandb_callback, act_callback, relu_callback, cam_callback])"
   ]
  }
 ],
 "metadata": {
  "kernelspec": {
   "display_name": "Python 3",
   "language": "python",
   "name": "python3"
  },
  "language_info": {
   "codemirror_mode": {
    "name": "ipython",
    "version": 3
   },
   "file_extension": ".py",
   "mimetype": "text/x-python",
   "name": "python",
   "nbconvert_exporter": "python",
   "pygments_lexer": "ipython3",
   "version": "3.6.9"
  }
 },
 "nbformat": 4,
 "nbformat_minor": 4
}
